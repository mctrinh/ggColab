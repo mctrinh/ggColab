{
  "nbformat": 4,
  "nbformat_minor": 0,
  "metadata": {
    "colab": {
      "name": "tf2_quick_start_beginer.ipynb",
      "provenance": [],
      "collapsed_sections": [],
      "authorship_tag": "ABX9TyM2PExKiwMQKO1bWQvpa3YE",
      "include_colab_link": true
    },
    "kernelspec": {
      "name": "python3",
      "display_name": "Python 3"
    },
    "language_info": {
      "name": "python"
    }
  },
  "cells": [
    {
      "cell_type": "markdown",
      "metadata": {
        "id": "view-in-github",
        "colab_type": "text"
      },
      "source": [
        "<a href=\"https://colab.research.google.com/github/mctrinh/ggColab/blob/main/tf2_quick_start_beginer.ipynb\" target=\"_parent\"><img src=\"https://colab.research.google.com/assets/colab-badge.svg\" alt=\"Open In Colab\"/></a>"
      ]
    },
    {
      "cell_type": "code",
      "execution_count": null,
      "metadata": {
        "id": "AhurtLPxdwpH"
      },
      "outputs": [],
      "source": [
        ""
      ]
    },
    {
      "cell_type": "markdown",
      "source": [
        "# TensorFlow 2 quickstart\n",
        "\n",
        "Use [Keras](https://www.tensorflow.org/guide/keras/sequential_model) to:\n",
        "\n",
        "- Load a prebuilt dataset.\n",
        "- Build a neural network machine learning model that classifies images.\n",
        "- Train this neural network.\n",
        "- Evaluate the accuracy of the model."
      ],
      "metadata": {
        "id": "9MLGtp0yekLp"
      }
    },
    {
      "cell_type": "markdown",
      "source": [
        "## Set up TensorFlow\n",
        "\n",
        "Import TensorFlow into your program."
      ],
      "metadata": {
        "id": "aLrRNc7lfOm5"
      }
    },
    {
      "cell_type": "code",
      "source": [
        "import tensorflow as tf\n",
        "print(\"TensorFlow version: \", tf.__version__)"
      ],
      "metadata": {
        "colab": {
          "base_uri": "https://localhost:8080/"
        },
        "id": "KaY8T3nMfWVI",
        "outputId": "a5118f7e-d15d-469a-ecee-a1dca253f547"
      },
      "execution_count": 3,
      "outputs": [
        {
          "output_type": "stream",
          "name": "stdout",
          "text": [
            "TensorFlow version:  2.7.0\n"
          ]
        }
      ]
    },
    {
      "cell_type": "markdown",
      "source": [
        "## Load a dataset\n",
        "\n",
        "Load and prepare the [MNIST dataset](http://yann.lecun.com/exdb/mnist/). Convert the sample data from integers to floating-point numbers:"
      ],
      "metadata": {
        "id": "RP4fbMx1f5FI"
      }
    },
    {
      "cell_type": "code",
      "source": [
        "mnist = tf.keras.datasets.mnist\n",
        "\n",
        "(x_train, y_train), (x_test, y_test) = mnist.load_data()\n",
        "x_train, x_test = x_train / 255.0, x_test / 255.0"
      ],
      "metadata": {
        "colab": {
          "base_uri": "https://localhost:8080/"
        },
        "id": "sapSa66AgdYx",
        "outputId": "7fb33305-8649-4357-ceb8-37ea0b34516b"
      },
      "execution_count": 4,
      "outputs": [
        {
          "output_type": "stream",
          "name": "stdout",
          "text": [
            "Downloading data from https://storage.googleapis.com/tensorflow/tf-keras-datasets/mnist.npz\n",
            "11493376/11490434 [==============================] - 0s 0us/step\n",
            "11501568/11490434 [==============================] - 0s 0us/step\n"
          ]
        }
      ]
    },
    {
      "cell_type": "code",
      "source": [
        ""
      ],
      "metadata": {
        "id": "9tN8EKumg6dm"
      },
      "execution_count": null,
      "outputs": []
    },
    {
      "cell_type": "markdown",
      "source": [
        "## Build a machine learning model\n",
        "\n",
        "Build a `tf.keras.Sequential` model by stacking layers."
      ],
      "metadata": {
        "id": "Q18zdpWghcvw"
      }
    },
    {
      "cell_type": "code",
      "source": [
        "model = tf.keras.models.Sequential([\n",
        "  tf.keras.layers.Flatten(input_shape=(28,28)),\n",
        "  tf.keras.layers.Dense(128, activation='relu'),\n",
        "  tf.keras.layers.Dropout(0.2),\n",
        "  tf.keras.layers.Dense(10)\n",
        "])"
      ],
      "metadata": {
        "id": "l43Uei9vhmBw"
      },
      "execution_count": 5,
      "outputs": []
    },
    {
      "cell_type": "markdown",
      "source": [
        "For each example, the model returns a vector of [logits](https://developers.google.com/machine-learning/glossary#logits) and [log-odds](https://developers.google.com/machine-learning/glossary#log-odds) scores, one for each class."
      ],
      "metadata": {
        "id": "iHAzsyKHh_dB"
      }
    },
    {
      "cell_type": "code",
      "source": [
        "predictions = model(x_train[:1]).numpy()\n",
        "predictions"
      ],
      "metadata": {
        "colab": {
          "base_uri": "https://localhost:8080/"
        },
        "id": "sIqiyZ1Xh7SR",
        "outputId": "0636c076-a300-40bd-909f-3a0f75564ee1"
      },
      "execution_count": 7,
      "outputs": [
        {
          "output_type": "execute_result",
          "data": {
            "text/plain": [
              "array([[ 0.16931544,  0.33346194,  0.21784386,  0.35699698,  0.29814017,\n",
              "        -0.2965319 ,  0.24983247,  0.32767147, -0.50568646, -0.17499092]],\n",
              "      dtype=float32)"
            ]
          },
          "metadata": {},
          "execution_count": 7
        }
      ]
    },
    {
      "cell_type": "markdown",
      "source": [
        "The `tf.nn.softmax` function converts these logits to probabilities for each class:"
      ],
      "metadata": {
        "id": "sg-VRT0TiuQJ"
      }
    },
    {
      "cell_type": "code",
      "source": [
        "tf.nn.softmax(predictions).numpy()"
      ],
      "metadata": {
        "colab": {
          "base_uri": "https://localhost:8080/"
        },
        "id": "H923OZKmioJp",
        "outputId": "49ca1ed4-491a-4971-a59b-9884549314ec"
      },
      "execution_count": 8,
      "outputs": [
        {
          "output_type": "execute_result",
          "data": {
            "text/plain": [
              "array([[0.10338105, 0.12182288, 0.10852169, 0.12472399, 0.11759497,\n",
              "        0.06488226, 0.11204927, 0.12111951, 0.05263703, 0.07326736]],\n",
              "      dtype=float32)"
            ]
          },
          "metadata": {},
          "execution_count": 8
        }
      ]
    },
    {
      "cell_type": "markdown",
      "source": [
        "Define a loss function for training using `losses.SparseCategorialCrossentropy`, which takes a vector of logits and a `True` index and returns a scalar loss for each example."
      ],
      "metadata": {
        "id": "7WeHW5mOjGHA"
      }
    },
    {
      "cell_type": "code",
      "source": [
        "loss_fn = tf.keras.losses.SparseCategoricalCrossentropy(from_logits=True)"
      ],
      "metadata": {
        "id": "I9iBSO6ijXKV"
      },
      "execution_count": 10,
      "outputs": []
    },
    {
      "cell_type": "markdown",
      "source": [
        "This loss is equal to the negative log probability of the true class: The loss is zero if the model is sure of the correct class.\n",
        "\n",
        "This untrained mmodel gives probabilities close to random (1/10 for each class), so the initial loss should be close to `-tf.math.log(1/10) ~= 2.3`."
      ],
      "metadata": {
        "id": "6zFD6BUpjilY"
      }
    },
    {
      "cell_type": "code",
      "source": [
        "loss_fn(y_train[:1], predictions).numpy()"
      ],
      "metadata": {
        "colab": {
          "base_uri": "https://localhost:8080/"
        },
        "id": "wX59YvJBj4vZ",
        "outputId": "45359219-e6c4-4bd5-8f22-19efd69901e6"
      },
      "execution_count": 11,
      "outputs": [
        {
          "output_type": "execute_result",
          "data": {
            "text/plain": [
              "2.735181"
            ]
          },
          "metadata": {},
          "execution_count": 11
        }
      ]
    },
    {
      "cell_type": "markdown",
      "source": [
        "Before start tranining, configure and compile the model using Keras `Model.compile`. Set the [`optimizer`](https://www.tensorflow.org/api_docs/python/tf/keras/optimizers) class to `adam`, set the `loss` to the `loss_fn` function defined earlier, and specify a metric to be evaluated for the model by setting the `metrics` parameter to `accuracy`."
      ],
      "metadata": {
        "id": "CHG9H8z3j_TA"
      }
    },
    {
      "cell_type": "code",
      "source": [
        "model.compile(optimizer='adam',\n",
        "              loss=loss_fn,\n",
        "              metrics=['accuracy'])"
      ],
      "metadata": {
        "id": "0-Z3Jh_Ti4Mx"
      },
      "execution_count": 12,
      "outputs": []
    },
    {
      "cell_type": "markdown",
      "source": [
        "## Train and evaluate your model\n",
        "\n",
        "Use the `Model.fit` method to adjust your model parameters and minimize the loss:"
      ],
      "metadata": {
        "id": "hmbpsPbak-xp"
      }
    },
    {
      "cell_type": "code",
      "source": [
        "model.fit(x_train, y_train, epochs=5)"
      ],
      "metadata": {
        "colab": {
          "base_uri": "https://localhost:8080/"
        },
        "id": "mzgGYAesky_W",
        "outputId": "6cb196ce-1f06-4652-f634-bf565e399c5d"
      },
      "execution_count": 13,
      "outputs": [
        {
          "output_type": "stream",
          "name": "stdout",
          "text": [
            "Epoch 1/5\n",
            "1875/1875 [==============================] - 8s 3ms/step - loss: 0.2962 - accuracy: 0.9134\n",
            "Epoch 2/5\n",
            "1875/1875 [==============================] - 5s 3ms/step - loss: 0.1437 - accuracy: 0.9570\n",
            "Epoch 3/5\n",
            "1875/1875 [==============================] - 5s 2ms/step - loss: 0.1098 - accuracy: 0.9672\n",
            "Epoch 4/5\n",
            "1875/1875 [==============================] - 5s 3ms/step - loss: 0.0891 - accuracy: 0.9730\n",
            "Epoch 5/5\n",
            "1875/1875 [==============================] - 5s 3ms/step - loss: 0.0754 - accuracy: 0.9764\n"
          ]
        },
        {
          "output_type": "execute_result",
          "data": {
            "text/plain": [
              "<keras.callbacks.History at 0x7fc5e3668fd0>"
            ]
          },
          "metadata": {},
          "execution_count": 13
        }
      ]
    },
    {
      "cell_type": "markdown",
      "source": [
        "The `Model.evaluate` method checks the models performance, usually on a \"Validation-set\" or \"Test-set\""
      ],
      "metadata": {
        "id": "VpJtEoF5ltjo"
      }
    },
    {
      "cell_type": "code",
      "source": [
        "model.evaluate(x_test, y_test, verbose=2)"
      ],
      "metadata": {
        "colab": {
          "base_uri": "https://localhost:8080/"
        },
        "id": "TxvYFhDPlQWw",
        "outputId": "78b17a25-cb28-4c6f-8ab5-bc46185cfcf4"
      },
      "execution_count": 14,
      "outputs": [
        {
          "output_type": "stream",
          "name": "stdout",
          "text": [
            "313/313 - 1s - loss: 0.0814 - accuracy: 0.9769 - 802ms/epoch - 3ms/step\n"
          ]
        },
        {
          "output_type": "execute_result",
          "data": {
            "text/plain": [
              "[0.08135673403739929, 0.9768999814987183]"
            ]
          },
          "metadata": {},
          "execution_count": 14
        }
      ]
    },
    {
      "cell_type": "markdown",
      "source": [
        "The image classifier is trained to 97.7% accuracy on this dataset.\n",
        "\n",
        "To make the model returning a probability, we can wrap the trained model, and attach the softmax to it:"
      ],
      "metadata": {
        "id": "fLVfL-i4l4d4"
      }
    },
    {
      "cell_type": "code",
      "source": [
        "probability_model = tf.keras.Sequential([\n",
        "  model,\n",
        "  tf.keras.layers.Softmax()\n",
        "])"
      ],
      "metadata": {
        "id": "vldE8rWumK9Q"
      },
      "execution_count": 15,
      "outputs": []
    },
    {
      "cell_type": "code",
      "source": [
        "probability_model(x_test[:5])"
      ],
      "metadata": {
        "colab": {
          "base_uri": "https://localhost:8080/"
        },
        "id": "biaFXkzMl0pl",
        "outputId": "5bf899e5-670b-4a99-b112-fa6b1ef6f806"
      },
      "execution_count": 16,
      "outputs": [
        {
          "output_type": "execute_result",
          "data": {
            "text/plain": [
              "<tf.Tensor: shape=(5, 10), dtype=float32, numpy=\n",
              "array([[1.47997383e-07, 2.95115349e-10, 5.20909055e-07, 5.16817927e-05,\n",
              "        1.03684518e-11, 1.81964737e-07, 1.52615663e-11, 9.99944806e-01,\n",
              "        8.73739410e-08, 2.40692793e-06],\n",
              "       [1.14057562e-10, 1.23704776e-05, 9.99973059e-01, 1.30304006e-05,\n",
              "        2.19087715e-14, 2.96838351e-07, 1.54784328e-08, 8.09454331e-15,\n",
              "        1.24925475e-06, 2.60021442e-13],\n",
              "       [6.00764665e-08, 9.99578297e-01, 2.28202189e-05, 2.83573104e-06,\n",
              "        2.58119562e-05, 8.23290975e-06, 2.20113975e-06, 1.49557847e-04,\n",
              "        2.10099344e-04, 1.25913488e-07],\n",
              "       [9.99652386e-01, 2.89574125e-08, 1.80416555e-05, 2.33691435e-06,\n",
              "        1.33750905e-06, 6.23205381e-07, 2.43131639e-04, 3.21792650e-05,\n",
              "        4.90302554e-08, 4.98344707e-05],\n",
              "       [9.26871166e-07, 8.34580599e-11, 4.84943484e-07, 1.85298141e-08,\n",
              "        9.98196900e-01, 5.31995212e-08, 1.04759515e-07, 3.45076478e-05,\n",
              "        6.37685673e-07, 1.76627107e-03]], dtype=float32)>"
            ]
          },
          "metadata": {},
          "execution_count": 16
        }
      ]
    }
  ]
}