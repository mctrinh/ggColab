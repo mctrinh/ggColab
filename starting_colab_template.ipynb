{
  "nbformat": 4,
  "nbformat_minor": 0,
  "metadata": {
    "colab": {
      "name": "starting-colab-template.ipynb",
      "provenance": [],
      "collapsed_sections": [],
      "authorship_tag": "ABX9TyPbPOgbX2pbwk+ti2uhX0GC",
      "include_colab_link": true
    },
    "kernelspec": {
      "name": "python3",
      "display_name": "Python 3"
    },
    "language_info": {
      "name": "python"
    },
    "accelerator": "GPU"
  },
  "cells": [
    {
      "cell_type": "markdown",
      "metadata": {
        "id": "view-in-github",
        "colab_type": "text"
      },
      "source": [
        "<a href=\"https://colab.research.google.com/github/mctrinh/ggColab/blob/main/starting_colab_template.ipynb\" target=\"_parent\"><img src=\"https://colab.research.google.com/assets/colab-badge.svg\" alt=\"Open In Colab\"/></a>"
      ]
    },
    {
      "cell_type": "code",
      "execution_count": null,
      "metadata": {
        "id": "OPTI03_bYzDo"
      },
      "outputs": [],
      "source": [
        "from google.colab import drive\n",
        "drive.mount('/content/gdrive')"
      ]
    },
    {
      "cell_type": "code",
      "source": [
        "!ls \"/content/gdrive/My Drive/\"   # reach the drive at anytime\n",
        "!cd                               # bash commands start with !\n",
        "                                  # !python script.py to run a python file\n",
        "                                  # !git clone <REPOSITORY URL> to clone a repository"
      ],
      "metadata": {
        "id": "YC2YEQ6vgu6C"
      },
      "execution_count": null,
      "outputs": []
    },
    {
      "cell_type": "code",
      "source": [
        "# download and unzip a shared zip file link\n",
        "# !wget <ENTER URL>\n",
        "!wget -cq https://s3.amazonaws.com/content.udacity-data.com/courses/nd188/flower_data.zip\n",
        "!unzip -qq flower_data.zip"
      ],
      "metadata": {
        "id": "tOn01X1YhOdj"
      },
      "execution_count": null,
      "outputs": []
    },
    {
      "cell_type": "code",
      "source": [
        "# Import resources\n",
        "%matplotlib inline\n",
        "%config InlineBackend.figure_format = 'retina'\n",
        "\n",
        "import time\n",
        "import json\n",
        "import copy\n",
        "\n",
        "import matplotlib.pyplot as plt\n",
        "import seaborn as sns\n",
        "import numpy as np\n",
        "import PIL\n",
        "# print(PIL.PILLOW_VERSION)\n",
        "\n",
        "from PIL import Image\n",
        "from collections import OrderedDict\n",
        "\n",
        "import torch\n",
        "from torch import nn, optim\n",
        "from torch.optim import lr_scheduler\n",
        "from torch.autograd import Variable\n",
        "# !pip3 install torch torchvision\n",
        "import torchvision\n",
        "from torchvision import datasets, models, transforms\n",
        "from torch.utils.data.sampler import SubsetRandomSampler\n",
        "import torch.nn as nn\n",
        "import torch.nn.functional as F\n",
        "\n",
        "import os\n",
        "\n",
        "# install library: !pip install <LIBRARY> or !apt-get install <LIBRARY>\n",
        "# !pip install -q keras\n",
        "import keras"
      ],
      "metadata": {
        "id": "fgeRm34hi6GL"
      },
      "execution_count": 14,
      "outputs": []
    },
    {
      "cell_type": "code",
      "source": [
        "# upload files from computer\n",
        "from google.colab import files\n",
        "files.upload()"
      ],
      "metadata": {
        "id": "hS_tZKTCotAX"
      },
      "execution_count": null,
      "outputs": []
    },
    {
      "cell_type": "code",
      "source": [
        "# download files and run\n",
        "from google.colab import files\n",
        "files.download('/content/filename.pdf')"
      ],
      "metadata": {
        "id": "16jBn10Io9Su"
      },
      "execution_count": null,
      "outputs": []
    },
    {
      "cell_type": "code",
      "source": [
        "# default hardware in Colab is CPU\n",
        "# to enable GPU/TPU: Runtime → Change runtime type → Hardware accelerator\n",
        "# to check if GPU is enable:\n",
        "import tensorflow as tf\n",
        "tf.test.gpu_device_name()"
      ],
      "metadata": {
        "id": "4QXvM6TnpmDf"
      },
      "execution_count": null,
      "outputs": []
    }
  ]
}