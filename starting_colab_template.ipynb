{
  "nbformat": 4,
  "nbformat_minor": 0,
  "metadata": {
    "colab": {
      "name": "starting-colab-template.ipynb",
      "provenance": [],
      "collapsed_sections": [],
      "toc_visible": true,
      "authorship_tag": "ABX9TyMjTh9kQl9LZl21Gim0uQ/N",
      "include_colab_link": true
    },
    "kernelspec": {
      "name": "python3",
      "display_name": "Python 3"
    },
    "language_info": {
      "name": "python"
    },
    "accelerator": "GPU"
  },
  "cells": [
    {
      "cell_type": "markdown",
      "metadata": {
        "id": "view-in-github",
        "colab_type": "text"
      },
      "source": [
        "<a href=\"https://colab.research.google.com/github/mctrinh/ggColab/blob/main/starting_colab_template.ipynb\" target=\"_parent\"><img src=\"https://colab.research.google.com/assets/colab-badge.svg\" alt=\"Open In Colab\"/></a>"
      ]
    },
    {
      "cell_type": "markdown",
      "source": [
        "# Mount Colab to Drive"
      ],
      "metadata": {
        "id": "EIzZHtvm36HW"
      }
    },
    {
      "cell_type": "code",
      "execution_count": null,
      "metadata": {
        "id": "OPTI03_bYzDo"
      },
      "outputs": [],
      "source": [
        "from google.colab import drive\n",
        "drive.mount('/content/gdrive')"
      ]
    },
    {
      "cell_type": "code",
      "source": [
        "!ls \"/content/gdrive/My Drive/\"   # reach the drive at anytime\n",
        "!cd                               # bash commands start with !\n",
        "                                  # !python script.py to run a python file\n",
        "                                  # !git clone <REPOSITORY URL> to clone a repository"
      ],
      "metadata": {
        "id": "YC2YEQ6vgu6C"
      },
      "execution_count": null,
      "outputs": []
    },
    {
      "cell_type": "markdown",
      "source": [
        "# Import resources"
      ],
      "metadata": {
        "id": "R4hfiLgW4PEV"
      }
    },
    {
      "cell_type": "code",
      "source": [
        "# Import resources\n",
        "%matplotlib inline\n",
        "%config InlineBackend.figure_format = 'retina'\n",
        "\n",
        "import time\n",
        "import json\n",
        "import copy\n",
        "\n",
        "import matplotlib.pyplot as plt\n",
        "import seaborn as sns\n",
        "import numpy as np\n",
        "import PIL\n",
        "# print(PIL.PILLOW_VERSION)\n",
        "\n",
        "from PIL import Image\n",
        "from collections import OrderedDict\n",
        "\n",
        "import torch\n",
        "from torch import nn, optim\n",
        "from torch.optim import lr_scheduler\n",
        "from torch.autograd import Variable\n",
        "# !pip3 install torch torchvision\n",
        "import torchvision\n",
        "from torchvision import datasets, models, transforms\n",
        "from torch.utils.data.sampler import SubsetRandomSampler\n",
        "import torch.nn as nn\n",
        "import torch.nn.functional as F\n",
        "\n",
        "import os\n",
        "\n",
        "# install library: !pip install <LIBRARY> or !apt-get install <LIBRARY>\n",
        "# !pip install -q keras\n",
        "import keras"
      ],
      "metadata": {
        "id": "fgeRm34hi6GL"
      },
      "execution_count": 14,
      "outputs": []
    },
    {
      "cell_type": "markdown",
      "source": [
        "# Upload and download files"
      ],
      "metadata": {
        "id": "u1D2jA6a4eBN"
      }
    },
    {
      "cell_type": "code",
      "source": [
        "# upload files from computer\n",
        "from google.colab import files\n",
        "files.upload()"
      ],
      "metadata": {
        "id": "hS_tZKTCotAX"
      },
      "execution_count": null,
      "outputs": []
    },
    {
      "cell_type": "code",
      "source": [
        "# download files and run\n",
        "from google.colab import files\n",
        "files.download('/content/filename.pdf')"
      ],
      "metadata": {
        "id": "16jBn10Io9Su"
      },
      "execution_count": null,
      "outputs": []
    },
    {
      "cell_type": "code",
      "source": [
        "# download and unzip a shared zip file link\n",
        "# !wget <ENTER URL>\n",
        "!wget -cq https://s3.amazonaws.com/content.udacity-data.com/courses/nd188/flower_data.zip\n",
        "!unzip -qq flower_data.zip"
      ],
      "metadata": {
        "id": "tOn01X1YhOdj"
      },
      "execution_count": null,
      "outputs": []
    },
    {
      "cell_type": "markdown",
      "source": [
        "# GPUs in Colab"
      ],
      "metadata": {
        "id": "0V_eWC2w4rnk"
      }
    },
    {
      "cell_type": "markdown",
      "source": [
        "The default hardware in Colab is CPU. Go to *Runtime/Change runtime type* or *Edit/Notebook Settings* to enable GPU/TPU. When a GPU is connected, a maximum of 12 hours at a time on the Cloud Machine is given.\n",
        "**To check if GPU is enable:**"
      ],
      "metadata": {
        "id": "ujw5Ndphv6E3"
      }
    },
    {
      "cell_type": "code",
      "source": [
        "%tensorflow_version 2.x\n",
        "import tensorflow as tf\n",
        "device_name = tf.test.gpu_device_name()\n",
        "if device_name != '/device:GPU:0':\n",
        "  raise SystemError('GPU device not found')\n",
        "print('Found GPU at: {}'.format(device_name))"
      ],
      "metadata": {
        "colab": {
          "base_uri": "https://localhost:8080/"
        },
        "id": "4QXvM6TnpmDf",
        "outputId": "c3d33631-13d9-4162-d5a5-0b1777d9bf54"
      },
      "execution_count": 3,
      "outputs": [
        {
          "output_type": "stream",
          "name": "stdout",
          "text": [
            "Found GPU at: /device:GPU:0\n"
          ]
        }
      ]
    },
    {
      "cell_type": "markdown",
      "source": [
        "**Observe TensorFlow speedup on GPU relative to CPU:**\n"
      ],
      "metadata": {
        "id": "7_-KUoDvvg_H"
      }
    },
    {
      "cell_type": "code",
      "source": [
        "%tensorflow_version 2.x \n",
        "import tensorflow as tf\n",
        "import timeit\n",
        "\n",
        "device_name = tf.test.gpu_device_name()\n",
        "if device_name != '/device:GPU:0':\n",
        "  print(\n",
        "      '\\n\\nThis error most likely means that this notebook is not '\n",
        "      'configured to use GPU. Change this in Notebook Settings via the '\n",
        "      'command palette (cmd/ctrl-shift-P) or the Edit menu. \\n\\n')\n",
        "  raise SystemError('GPU device not found')\n",
        "\n",
        "def cpu():\n",
        "  with tf.device('/cpu:0'):\n",
        "    random_image_cpu = tf.random.normal((100, 100, 100, 3))\n",
        "    net_cpu = tf.keras.layers.Conv2D(32, 7)(random_image_cpu)\n",
        "    return tf.math.reduce_sum(net_cpu)\n",
        "\n",
        "def gpu():\n",
        "  with tf.device('/device:GPU:0'):\n",
        "    random_image_gpu = tf.random.normal((100, 100, 100, 3))\n",
        "    net_gpu = tf.keras.layers.Conv2D(32, 7)(random_image_gpu)\n",
        "    return tf.math.reduce_sum(net_gpu)\n",
        "\n",
        "# Let's run each op(eration) once to warm up; refer: https://stackoverflow.com/a/45067900\n",
        "cpu()\n",
        "gpu()\n",
        "\n",
        "# Run the op(eration) several times.\n",
        "print('Time (s) to convolve 32x7x7x3 filter over random 100x100x100x3 images '\n",
        "      '(batch x height x width x channel). Sum of ten runs.')\n",
        "print('CPU (s):')\n",
        "cpu_time = timeit.timeit('cpu()', number=10, setup=\"from __main__ import cpu\")\n",
        "print(cpu_time)\n",
        "print('GPU (s):')\n",
        "gpu_time = timeit.timeit('gpu()', number=10, setup=\"from __main__ import gpu\")\n",
        "print(gpu_time)\n",
        "print('GPU speedup over CPU: {}x'.format(int(cpu_time/gpu_time)))\n"
      ],
      "metadata": {
        "colab": {
          "base_uri": "https://localhost:8080/"
        },
        "id": "Il1FOPnbwfI2",
        "outputId": "195e525b-882d-4d45-8b7e-38ffc207d425"
      },
      "execution_count": 6,
      "outputs": [
        {
          "output_type": "stream",
          "name": "stdout",
          "text": [
            "Time (s) to convolve 32x7x7x3 filter over random 100x100x100x3 images (batch x height x width x channel). Sum of ten runs.\n",
            "CPU (s):\n",
            "3.6912122860003365\n",
            "GPU (s):\n",
            "0.04948854800022673\n",
            "GPU speedup over CPU: 74x\n"
          ]
        }
      ]
    },
    {
      "cell_type": "markdown",
      "source": [
        "# TPUs in Colab"
      ],
      "metadata": {
        "id": "b_9TcNO641dd"
      }
    },
    {
      "cell_type": "markdown",
      "source": [
        "Train a model to classify the images of flowers on Google's lightning-fast Cloud TPUs. The model will take as input a photo of a flower and return wether it is a daisy, dandelion, rose, sunflower, or tulip. We use the Keras framework, new to TPUs in TF 2.1.0."
      ],
      "metadata": {
        "id": "eBAZPHZV1unG"
      }
    },
    {
      "cell_type": "markdown",
      "source": [
        "Copyright 2019-2020 Google LLC. Licensed under the Apache License, Version 2.0 (the \"License\")"
      ],
      "metadata": {
        "id": "Rg7iS4VD3UZO"
      }
    },
    {
      "cell_type": "markdown",
      "source": [
        "**Enabling and testing the TPU:**"
      ],
      "metadata": {
        "id": "feljzEru5g2l"
      }
    },
    {
      "cell_type": "code",
      "source": [
        ""
      ],
      "metadata": {
        "id": "9Va0DB6Y5nWV"
      },
      "execution_count": null,
      "outputs": []
    },
    {
      "cell_type": "markdown",
      "source": [
        "# Utility"
      ],
      "metadata": {
        "id": "APQI1_Xr5CQc"
      }
    },
    {
      "cell_type": "markdown",
      "source": [
        "Colab automatically disconnect after 30 minutes idle. To stop this: F12 to open Chrome DevTools and add the following JavaScript snippet in the console. This makes a click on the connect-button every 60 seconds. Thus, Colab thinks that the notebook is not idle!\n",
        "\n"
      ],
      "metadata": {
        "id": "2HZgCL8-tRmY"
      }
    },
    {
      "cell_type": "code",
      "source": [
        "# function KeepClicking(){\n",
        "# console.log(\"Clicking\");\n",
        "# document.querySelector(\"colab-connect-button\").click()\n",
        "# }\n",
        "# setInterval(KeepClicking,60000)"
      ],
      "metadata": {
        "id": "pildB8Fftlmb"
      },
      "execution_count": null,
      "outputs": []
    }
  ]
}